{
  "nbformat": 4,
  "nbformat_minor": 0,
  "metadata": {
    "colab": {
      "name": "VineReviewAnalysis.ipynb",
      "provenance": [],
      "collapsed_sections": [],
      "authorship_tag": "ABX9TyOoKE+4/tYNRlMWBvkEi3B1",
      "include_colab_link": true
    },
    "kernelspec": {
      "name": "python3",
      "display_name": "Python 3"
    },
    "language_info": {
      "name": "python"
    }
  },
  "cells": [
    {
      "cell_type": "markdown",
      "metadata": {
        "id": "view-in-github",
        "colab_type": "text"
      },
      "source": [
        "<a href=\"https://colab.research.google.com/github/kristithrasher/Amazon_Vine_Analysis/blob/main/VineReviewAnalysis.ipynb\" target=\"_parent\"><img src=\"https://colab.research.google.com/assets/colab-badge.svg\" alt=\"Open In Colab\"/></a>"
      ]
    },
    {
      "cell_type": "code",
      "execution_count": 1,
      "metadata": {
        "colab": {
          "base_uri": "https://localhost:8080/"
        },
        "id": "tnm8JKPnNZgI",
        "outputId": "8bbda1fb-a3c4-442a-b905-a9e10efac719"
      },
      "outputs": [
        {
          "output_type": "stream",
          "name": "stdout",
          "text": [
            "\r0% [Working]\r            \rGet:1 http://security.ubuntu.com/ubuntu bionic-security InRelease [88.7 kB]\n",
            "\r0% [Connecting to archive.ubuntu.com (91.189.88.152)] [1 InRelease 0 B/88.7 kB \r0% [Waiting for headers] [Waiting for headers] [Waiting for headers] [Waiting f\r0% [1 InRelease gpgv 88.7 kB] [Waiting for headers] [Waiting for headers] [Wait\r                                                                               \rHit:2 https://cloud.r-project.org/bin/linux/ubuntu bionic-cran40/ InRelease\n",
            "\r0% [1 InRelease gpgv 88.7 kB] [Waiting for headers] [Waiting for headers] [Wait\r                                                                               \rIgn:3 https://developer.download.nvidia.com/compute/cuda/repos/ubuntu1804/x86_64  InRelease\n",
            "\r0% [1 InRelease gpgv 88.7 kB] [Waiting for headers] [Waiting for headers] [Wait\r                                                                               \rHit:4 http://ppa.launchpad.net/c2d4u.team/c2d4u4.0+/ubuntu bionic InRelease\n",
            "Hit:5 http://archive.ubuntu.com/ubuntu bionic InRelease\n",
            "Ign:6 https://developer.download.nvidia.com/compute/machine-learning/repos/ubuntu1804/x86_64  InRelease\n",
            "Get:7 http://archive.ubuntu.com/ubuntu bionic-updates InRelease [88.7 kB]\n",
            "Hit:8 https://developer.download.nvidia.com/compute/cuda/repos/ubuntu1804/x86_64  Release\n",
            "Hit:9 https://developer.download.nvidia.com/compute/machine-learning/repos/ubuntu1804/x86_64  Release\n",
            "Hit:10 http://ppa.launchpad.net/cran/libgit2/ubuntu bionic InRelease\n",
            "Hit:11 http://ppa.launchpad.net/deadsnakes/ppa/ubuntu bionic InRelease\n",
            "Get:12 http://archive.ubuntu.com/ubuntu bionic-backports InRelease [74.6 kB]\n",
            "Hit:13 http://ppa.launchpad.net/graphics-drivers/ppa/ubuntu bionic InRelease\n",
            "Fetched 252 kB in 5s (51.8 kB/s)\n",
            "Reading package lists... Done\n"
          ]
        }
      ],
      "source": [
        "import os\n",
        "# Find the latest version of spark 3.0 from http://www.apache.org/dist/spark/ and enter as the spark version\n",
        "# For example:\n",
        "# spark_version = 'spark-3.0.3'\n",
        "spark_version = 'spark-3.0.3'\n",
        "os.environ['SPARK_VERSION']=spark_version\n",
        "\n",
        "# Install Spark and Java\n",
        "!apt-get update\n",
        "!apt-get install openjdk-11-jdk-headless -qq > /dev/null\n",
        "!wget -q http://www.apache.org/dist/spark/$SPARK_VERSION/$SPARK_VERSION-bin-hadoop2.7.tgz\n",
        "!tar xf $SPARK_VERSION-bin-hadoop2.7.tgz\n",
        "!pip install -q findspark\n",
        "\n",
        "# Set Environment Variables\n",
        "import os\n",
        "os.environ[\"JAVA_HOME\"] = \"/usr/lib/jvm/java-11-openjdk-amd64\"\n",
        "os.environ[\"SPARK_HOME\"] = f\"/content/{spark_version}-bin-hadoop2.7\"\n",
        "\n",
        "# Start a SparkSession\n",
        "import findspark\n",
        "findspark.init()"
      ]
    },
    {
      "cell_type": "code",
      "source": [
        "!wget https://jdbc.postgresql.org/download/postgresql-42.2.16.jar\n",
        "\n"
      ],
      "metadata": {
        "colab": {
          "base_uri": "https://localhost:8080/"
        },
        "id": "QbYmQltkNaPK",
        "outputId": "c95013f3-f0bc-4a33-a9bd-cc2cd925f564"
      },
      "execution_count": 2,
      "outputs": [
        {
          "output_type": "stream",
          "name": "stdout",
          "text": [
            "--2022-03-08 01:43:00--  https://jdbc.postgresql.org/download/postgresql-42.2.16.jar\n",
            "Resolving jdbc.postgresql.org (jdbc.postgresql.org)... 72.32.157.228, 2001:4800:3e1:1::228\n",
            "Connecting to jdbc.postgresql.org (jdbc.postgresql.org)|72.32.157.228|:443... connected.\n",
            "HTTP request sent, awaiting response... 200 OK\n",
            "Length: 1002883 (979K) [application/java-archive]\n",
            "Saving to: ‘postgresql-42.2.16.jar.3’\n",
            "\n",
            "postgresql-42.2.16. 100%[===================>] 979.38K  5.20MB/s    in 0.2s    \n",
            "\n",
            "2022-03-08 01:43:01 (5.20 MB/s) - ‘postgresql-42.2.16.jar.3’ saved [1002883/1002883]\n",
            "\n"
          ]
        }
      ]
    },
    {
      "cell_type": "code",
      "source": [
        "from pyspark.sql import SparkSession\n",
        "spark = SparkSession.builder.appName(\"CloudETL\").config(\"spark.driver.extraClassPath\",\"/content/postgresql-42.2.16.jar\").getOrCreate()"
      ],
      "metadata": {
        "id": "BiFKS2LWNahd"
      },
      "execution_count": 3,
      "outputs": []
    },
    {
      "cell_type": "code",
      "source": [
        "# Read in vine data from S3 Buckets\n",
        "from pyspark import SparkFiles\n",
        "url =\"https://kristithrasher-bucket.s3.amazonaws.com/vine_table.csv\"\n",
        "spark.sparkContext.addFile(url)\n",
        "vine_df = spark.read.csv(SparkFiles.get(\"vine_table.csv\"), sep=\",\", header=True, inferSchema=True)\n"
      ],
      "metadata": {
        "id": "zMShiOSZNalM"
      },
      "execution_count": 4,
      "outputs": []
    },
    {
      "cell_type": "code",
      "source": [
        "# show the dataframe\n",
        "vine_df.show()"
      ],
      "metadata": {
        "colab": {
          "base_uri": "https://localhost:8080/"
        },
        "id": "OhINv0RLRBO0",
        "outputId": "b6c4996a-0537-4299-ab52-da1f0095587c"
      },
      "execution_count": 35,
      "outputs": [
        {
          "output_type": "stream",
          "name": "stdout",
          "text": [
            "+--------------+-----------+-------------+-----------+----+-----------------+\n",
            "|     review_id|star_rating|helpful_votes|total_votes|vine|verified_purchase|\n",
            "+--------------+-----------+-------------+-----------+----+-----------------+\n",
            "| RDIJS7QYB6XNR|          5|            0|          0|   N|                Y|\n",
            "|R36ED1U38IELG8|          5|            0|          0|   N|                Y|\n",
            "| R1UE3RPRGCOLD|          2|            1|          1|   N|                Y|\n",
            "|R298788GS6I901|          5|            0|          0|   N|                Y|\n",
            "|  RNX4EXOBBPN5|          1|            1|          1|   N|                Y|\n",
            "|R3BPETL222LMIM|          5|            0|          0|   N|                Y|\n",
            "|R3SORMPJZO3F2J|          3|            2|          2|   N|                Y|\n",
            "|R2RDOJQ0WBZCF6|          5|            0|          0|   N|                Y|\n",
            "|R2B8VBEPB4YEZ7|          5|            0|          0|   N|                Y|\n",
            "|R1CB783I7B0U52|          1|            0|          1|   N|                Y|\n",
            "| R2D90RQQ3V8LH|          5|            0|          0|   N|                Y|\n",
            "|R1Y4ZOUGFMJ327|          5|            0|          0|   N|                Y|\n",
            "|R2BUV9QJI2A00X|          5|            0|          1|   N|                Y|\n",
            "| RSUHRJFJIRB3Z|          4|            0|          0|   N|                Y|\n",
            "|R1T96CG98BBA15|          3|            2|          4|   N|                Y|\n",
            "| R2ATXF4QQ30YW|          5|            0|          0|   N|                Y|\n",
            "|R1YS3DS218NNMD|          5|            4|          4|   N|                N|\n",
            "|R2SDXLTLF92O0H|          5|            0|          0|   N|                Y|\n",
            "| R4R337CCDWLNG|          3|            0|          1|   Y|                N|\n",
            "|R32Z6UA4S5Q630|          1|            0|          0|   N|                Y|\n",
            "+--------------+-----------+-------------+-----------+----+-----------------+\n",
            "only showing top 20 rows\n",
            "\n"
          ]
        }
      ]
    },
    {
      "cell_type": "code",
      "source": [
        ""
      ],
      "metadata": {
        "colab": {
          "base_uri": "https://localhost:8080/",
          "height": 165
        },
        "id": "swaXTX8MRVe3",
        "outputId": "8d28d429-ef4b-43bf-8ade-32305ef15f2e"
      },
      "execution_count": 37,
      "outputs": [
        {
          "output_type": "error",
          "ename": "AttributeError",
          "evalue": "ignored",
          "traceback": [
            "\u001b[0;31m---------------------------------------------------------------------------\u001b[0m",
            "\u001b[0;31mAttributeError\u001b[0m                            Traceback (most recent call last)",
            "\u001b[0;32m<ipython-input-37-2aac61e1398c>\u001b[0m in \u001b[0;36m<module>\u001b[0;34m()\u001b[0m\n\u001b[0;32m----> 1\u001b[0;31m \u001b[0mvine_paid_df\u001b[0m\u001b[0;34m.\u001b[0m\u001b[0mshow\u001b[0m\u001b[0;34m(\u001b[0m\u001b[0;34m)\u001b[0m\u001b[0;34m\u001b[0m\u001b[0;34m\u001b[0m\u001b[0m\n\u001b[0m",
            "\u001b[0;31mAttributeError\u001b[0m: 'NoneType' object has no attribute 'show'"
          ]
        }
      ]
    },
    {
      "cell_type": "code",
      "source": [
        "### DELIVERALBE 2"
      ],
      "metadata": {
        "id": "qhJ_aNewR5Zk"
      },
      "execution_count": 6,
      "outputs": []
    },
    {
      "cell_type": "code",
      "source": [
        "# Filter the vine_df dataframe to show total_votes greater than or equal to 20\n",
        "vine_df.filter(\"total_votes>=20\").show()\n",
        "filtered_vine_df = vine_df.filter(\"total_votes>=20\")\n",
        "filtered_vine_df.show()"
      ],
      "metadata": {
        "colab": {
          "base_uri": "https://localhost:8080/"
        },
        "id": "lsu0K5z6NaoH",
        "outputId": "1b9520d1-53ba-4228-dd2a-94b6f79d4a2d"
      },
      "execution_count": 7,
      "outputs": [
        {
          "output_type": "stream",
          "name": "stdout",
          "text": [
            "+--------------+-----------+-------------+-----------+----+-----------------+\n",
            "|     review_id|star_rating|helpful_votes|total_votes|vine|verified_purchase|\n",
            "+--------------+-----------+-------------+-----------+----+-----------------+\n",
            "| RL8D0KJ0J9L0O|          5|          152|        165|   N|                Y|\n",
            "|R1BEINAIQFBRJC|          5|           21|         23|   N|                Y|\n",
            "|R2L59KIJH302P9|          4|           26|         26|   N|                Y|\n",
            "| RR99CPG695T0I|          5|          215|        248|   N|                N|\n",
            "|R1XQNKKUPCMWVO|          5|           43|         44|   N|                Y|\n",
            "|R3JUXVCT1NSK2A|          3|           25|         26|   N|                Y|\n",
            "|R3GNSIFV1J2Y2B|          1|           15|         60|   N|                N|\n",
            "| RTCRZARYY4LXX|          5|           52|         54|   N|                Y|\n",
            "|R3OFB4P7Y8WR27|          1|           15|         26|   N|                Y|\n",
            "|R3MTAYGQM25N63|          4|           58|         59|   N|                Y|\n",
            "| RJNDSWES5ISZ7|          5|           78|         79|   N|                Y|\n",
            "|R15R7STOZZP2A4|          5|           33|         34|   N|                Y|\n",
            "|R33V5WV529NK8E|          4|           30|         32|   N|                Y|\n",
            "| RIR9ZI3L80P7P|          3|           72|         76|   N|                N|\n",
            "|R10P6SDC1D6C3I|          5|           23|         25|   N|                Y|\n",
            "|R110G9UVLI2MLS|          5|           52|         55|   N|                Y|\n",
            "|R1I4LN1WR3YVJX|          1|           31|         40|   N|                Y|\n",
            "|R1B76MPCS05UX9|          5|           19|         21|   N|                Y|\n",
            "|R17PJIKAZ3U6BG|          5|           21|         21|   N|                Y|\n",
            "|R2T3TLCX42RWLY|          5|           46|         48|   N|                Y|\n",
            "+--------------+-----------+-------------+-----------+----+-----------------+\n",
            "only showing top 20 rows\n",
            "\n",
            "+--------------+-----------+-------------+-----------+----+-----------------+\n",
            "|     review_id|star_rating|helpful_votes|total_votes|vine|verified_purchase|\n",
            "+--------------+-----------+-------------+-----------+----+-----------------+\n",
            "| RL8D0KJ0J9L0O|          5|          152|        165|   N|                Y|\n",
            "|R1BEINAIQFBRJC|          5|           21|         23|   N|                Y|\n",
            "|R2L59KIJH302P9|          4|           26|         26|   N|                Y|\n",
            "| RR99CPG695T0I|          5|          215|        248|   N|                N|\n",
            "|R1XQNKKUPCMWVO|          5|           43|         44|   N|                Y|\n",
            "|R3JUXVCT1NSK2A|          3|           25|         26|   N|                Y|\n",
            "|R3GNSIFV1J2Y2B|          1|           15|         60|   N|                N|\n",
            "| RTCRZARYY4LXX|          5|           52|         54|   N|                Y|\n",
            "|R3OFB4P7Y8WR27|          1|           15|         26|   N|                Y|\n",
            "|R3MTAYGQM25N63|          4|           58|         59|   N|                Y|\n",
            "| RJNDSWES5ISZ7|          5|           78|         79|   N|                Y|\n",
            "|R15R7STOZZP2A4|          5|           33|         34|   N|                Y|\n",
            "|R33V5WV529NK8E|          4|           30|         32|   N|                Y|\n",
            "| RIR9ZI3L80P7P|          3|           72|         76|   N|                N|\n",
            "|R10P6SDC1D6C3I|          5|           23|         25|   N|                Y|\n",
            "|R110G9UVLI2MLS|          5|           52|         55|   N|                Y|\n",
            "|R1I4LN1WR3YVJX|          1|           31|         40|   N|                Y|\n",
            "|R1B76MPCS05UX9|          5|           19|         21|   N|                Y|\n",
            "|R17PJIKAZ3U6BG|          5|           21|         21|   N|                Y|\n",
            "|R2T3TLCX42RWLY|          5|           46|         48|   N|                Y|\n",
            "+--------------+-----------+-------------+-----------+----+-----------------+\n",
            "only showing top 20 rows\n",
            "\n"
          ]
        }
      ]
    },
    {
      "cell_type": "code",
      "source": [
        "# get info on dataframe\n",
        "filtered_vine_df.describe()\n"
      ],
      "metadata": {
        "colab": {
          "base_uri": "https://localhost:8080/"
        },
        "id": "WVSQACoMWstk",
        "outputId": "35d20760-b6a0-4d9c-e08e-e1ab9d00e913"
      },
      "execution_count": 8,
      "outputs": [
        {
          "output_type": "execute_result",
          "data": {
            "text/plain": [
              "DataFrame[summary: string, review_id: string, star_rating: string, helpful_votes: string, total_votes: string, vine: string, verified_purchase: string]"
            ]
          },
          "metadata": {},
          "execution_count": 8
        }
      ]
    },
    {
      "cell_type": "code",
      "source": [
        "filtered_vine_df.printSchema()"
      ],
      "metadata": {
        "colab": {
          "base_uri": "https://localhost:8080/"
        },
        "id": "5-wC--_QNarS",
        "outputId": "fd902dc1-3f01-48ea-8260-f5a983512c2f"
      },
      "execution_count": 9,
      "outputs": [
        {
          "output_type": "stream",
          "name": "stdout",
          "text": [
            "root\n",
            " |-- review_id: string (nullable = true)\n",
            " |-- star_rating: integer (nullable = true)\n",
            " |-- helpful_votes: integer (nullable = true)\n",
            " |-- total_votes: integer (nullable = true)\n",
            " |-- vine: string (nullable = true)\n",
            " |-- verified_purchase: string (nullable = true)\n",
            "\n"
          ]
        }
      ]
    },
    {
      "cell_type": "code",
      "source": [
        "#importing datatypes from pyspark so i can change them\n",
        "from pyspark.sql.types import DoubleType\n"
      ],
      "metadata": {
        "id": "4y6nd3pOf6hv"
      },
      "execution_count": 10,
      "outputs": []
    },
    {
      "cell_type": "code",
      "source": [
        "# Recast the datatype of the helpful_votes and total_votes from integer to double\n",
        "new_df = filtered_vine_df.withColumn(\"helpful_votes\",filtered_vine_df.helpful_votes.cast(DoubleType()))\n",
        "filtered_vine2_df = new_df.withColumn(\"total_votes\",filtered_vine_df.total_votes.cast(DoubleType()))"
      ],
      "metadata": {
        "id": "awWqf9H7f6lG"
      },
      "execution_count": 40,
      "outputs": []
    },
    {
      "cell_type": "code",
      "source": [
        "filtered_vine2_df.printSchema()"
      ],
      "metadata": {
        "colab": {
          "base_uri": "https://localhost:8080/"
        },
        "id": "Yox8PAFwf6q5",
        "outputId": "41b3ae2e-b4ca-437b-eafc-325c8577b5b6"
      },
      "execution_count": 12,
      "outputs": [
        {
          "output_type": "stream",
          "name": "stdout",
          "text": [
            "root\n",
            " |-- review_id: string (nullable = true)\n",
            " |-- star_rating: integer (nullable = true)\n",
            " |-- helpful_votes: double (nullable = true)\n",
            " |-- total_votes: double (nullable = true)\n",
            " |-- vine: string (nullable = true)\n",
            " |-- verified_purchase: string (nullable = true)\n",
            "\n"
          ]
        }
      ]
    },
    {
      "cell_type": "code",
      "source": [
        "# Create New DataFrame to retrieve all the rows wehre the number of helpful votes is divided by total votes and >=0.5\n",
        "from pyspark.sql.functions import col, avg\n",
        "new_df = filtered_vine2_df.withColumn(\"calculation\", col(\"helpful_votes\") / col(\"total_votes\"))\n",
        "new_df.filter(new_df.calculation >= 0.5).show()\n"
      ],
      "metadata": {
        "colab": {
          "base_uri": "https://localhost:8080/"
        },
        "id": "lUTNY5gYiNh3",
        "outputId": "6df13b3f-75c7-488f-b38d-36519a0bf8af"
      },
      "execution_count": 51,
      "outputs": [
        {
          "output_type": "stream",
          "name": "stdout",
          "text": [
            "+--------------+-----------+-------------+-----------+----+-----------------+------------------+\n",
            "|     review_id|star_rating|helpful_votes|total_votes|vine|verified_purchase|       calculation|\n",
            "+--------------+-----------+-------------+-----------+----+-----------------+------------------+\n",
            "| RL8D0KJ0J9L0O|          5|        152.0|      165.0|   N|                Y|0.9212121212121213|\n",
            "|R1BEINAIQFBRJC|          5|         21.0|       23.0|   N|                Y|0.9130434782608695|\n",
            "|R2L59KIJH302P9|          4|         26.0|       26.0|   N|                Y|               1.0|\n",
            "| RR99CPG695T0I|          5|        215.0|      248.0|   N|                N|0.8669354838709677|\n",
            "|R1XQNKKUPCMWVO|          5|         43.0|       44.0|   N|                Y|0.9772727272727273|\n",
            "|R3JUXVCT1NSK2A|          3|         25.0|       26.0|   N|                Y|0.9615384615384616|\n",
            "| RTCRZARYY4LXX|          5|         52.0|       54.0|   N|                Y|0.9629629629629629|\n",
            "|R3OFB4P7Y8WR27|          1|         15.0|       26.0|   N|                Y|0.5769230769230769|\n",
            "|R3MTAYGQM25N63|          4|         58.0|       59.0|   N|                Y|0.9830508474576272|\n",
            "| RJNDSWES5ISZ7|          5|         78.0|       79.0|   N|                Y|0.9873417721518988|\n",
            "|R15R7STOZZP2A4|          5|         33.0|       34.0|   N|                Y|0.9705882352941176|\n",
            "|R33V5WV529NK8E|          4|         30.0|       32.0|   N|                Y|            0.9375|\n",
            "| RIR9ZI3L80P7P|          3|         72.0|       76.0|   N|                N|0.9473684210526315|\n",
            "|R10P6SDC1D6C3I|          5|         23.0|       25.0|   N|                Y|              0.92|\n",
            "|R110G9UVLI2MLS|          5|         52.0|       55.0|   N|                Y|0.9454545454545454|\n",
            "|R1I4LN1WR3YVJX|          1|         31.0|       40.0|   N|                Y|             0.775|\n",
            "|R1B76MPCS05UX9|          5|         19.0|       21.0|   N|                Y|0.9047619047619048|\n",
            "|R17PJIKAZ3U6BG|          5|         21.0|       21.0|   N|                Y|               1.0|\n",
            "|R2T3TLCX42RWLY|          5|         46.0|       48.0|   N|                Y|0.9583333333333334|\n",
            "|R39YWJ09ZCPW7P|          5|         24.0|       28.0|   N|                Y|0.8571428571428571|\n",
            "+--------------+-----------+-------------+-----------+----+-----------------+------------------+\n",
            "only showing top 20 rows\n",
            "\n"
          ]
        }
      ]
    },
    {
      "cell_type": "code",
      "source": [
        "# create a new data frame for Paid Vine User reviews\n",
        "vine_paid_df = new_df.filter(\"vine == 'Y'\")\n",
        "vine_paid_df.show()"
      ],
      "metadata": {
        "colab": {
          "base_uri": "https://localhost:8080/"
        },
        "id": "2tZmf-mIiNl5",
        "outputId": "77e8b8dc-2610-442b-849e-ab306d64ad66"
      },
      "execution_count": 55,
      "outputs": [
        {
          "output_type": "stream",
          "name": "stdout",
          "text": [
            "+--------------+-----------+-------------+-----------+----+-----------------+------------------+\n",
            "|     review_id|star_rating|helpful_votes|total_votes|vine|verified_purchase|       calculation|\n",
            "+--------------+-----------+-------------+-----------+----+-----------------+------------------+\n",
            "|R2BQOD1R0228FN|          3|         17.0|       26.0|   Y|                N|0.6538461538461539|\n",
            "| RC31RUPFOHBHQ|          4|        102.0|      117.0|   Y|                N|0.8717948717948718|\n",
            "| REN3N1WITLF1Y|          5|         33.0|       37.0|   Y|                N|0.8918918918918919|\n",
            "| R71RZQ9UZVG47|          4|         38.0|       47.0|   Y|                N|0.8085106382978723|\n",
            "|R38NMQBH88HLM6|          4|         18.0|       24.0|   Y|                N|              0.75|\n",
            "|R33FGX9EE3QVR6|          4|         26.0|       26.0|   Y|                N|               1.0|\n",
            "|R1KIOIK6WEYE59|          3|         19.0|       20.0|   Y|                N|              0.95|\n",
            "|R25X9BMOB3FD0E|          4|         32.0|       37.0|   Y|                N|0.8648648648648649|\n",
            "|R3VCKFCX2377Q2|          4|         95.0|      101.0|   Y|                N|0.9405940594059405|\n",
            "|R1E0OUG63HMSM4|          3|         58.0|       61.0|   Y|                N|0.9508196721311475|\n",
            "|R1V45RUW5ZB3LS|          4|         19.0|       21.0|   Y|                N|0.9047619047619048|\n",
            "| RTF6DSZ1UTLHH|          5|        401.0|      418.0|   Y|                N|0.9593301435406698|\n",
            "|R1CZV9N2YLJAP7|          5|        123.0|      136.0|   Y|                Y|0.9044117647058824|\n",
            "|R1OF3X9W99Y300|          4|         27.0|       35.0|   Y|                N|0.7714285714285715|\n",
            "|R1JYKEH4CQVJ1B|          5|         22.0|       23.0|   Y|                N|0.9565217391304348|\n",
            "|R1093XVB0H2QOL|          4|         51.0|       54.0|   Y|                N|0.9444444444444444|\n",
            "|R3Q81B31F1CPGH|          3|         50.0|       55.0|   Y|                N|0.9090909090909091|\n",
            "|R2P6XIZZPJF7AE|          5|         46.0|       51.0|   Y|                N|0.9019607843137255|\n",
            "|R3N5S06UW5MKFE|          3|        907.0|      925.0|   Y|                N|0.9805405405405405|\n",
            "|R3J9EJCVKFCRWO|          5|         18.0|       20.0|   Y|                N|               0.9|\n",
            "+--------------+-----------+-------------+-----------+----+-----------------+------------------+\n",
            "only showing top 20 rows\n",
            "\n"
          ]
        }
      ]
    },
    {
      "cell_type": "code",
      "source": [
        "# Create a new dataframe for No paid Vine user \n",
        "vine_non_paid_df = new_df.filter(\"vine =='N'\")\n",
        "vine_non_paid_df.show()"
      ],
      "metadata": {
        "colab": {
          "base_uri": "https://localhost:8080/"
        },
        "id": "hsEN_hmKiNpc",
        "outputId": "2a1fdb13-e968-4363-b444-07a45cd9406f"
      },
      "execution_count": 56,
      "outputs": [
        {
          "output_type": "stream",
          "name": "stdout",
          "text": [
            "+--------------+-----------+-------------+-----------+----+-----------------+------------------+\n",
            "|     review_id|star_rating|helpful_votes|total_votes|vine|verified_purchase|       calculation|\n",
            "+--------------+-----------+-------------+-----------+----+-----------------+------------------+\n",
            "| RL8D0KJ0J9L0O|          5|        152.0|      165.0|   N|                Y|0.9212121212121213|\n",
            "|R1BEINAIQFBRJC|          5|         21.0|       23.0|   N|                Y|0.9130434782608695|\n",
            "|R2L59KIJH302P9|          4|         26.0|       26.0|   N|                Y|               1.0|\n",
            "| RR99CPG695T0I|          5|        215.0|      248.0|   N|                N|0.8669354838709677|\n",
            "|R1XQNKKUPCMWVO|          5|         43.0|       44.0|   N|                Y|0.9772727272727273|\n",
            "|R3JUXVCT1NSK2A|          3|         25.0|       26.0|   N|                Y|0.9615384615384616|\n",
            "|R3GNSIFV1J2Y2B|          1|         15.0|       60.0|   N|                N|              0.25|\n",
            "| RTCRZARYY4LXX|          5|         52.0|       54.0|   N|                Y|0.9629629629629629|\n",
            "|R3OFB4P7Y8WR27|          1|         15.0|       26.0|   N|                Y|0.5769230769230769|\n",
            "|R3MTAYGQM25N63|          4|         58.0|       59.0|   N|                Y|0.9830508474576272|\n",
            "| RJNDSWES5ISZ7|          5|         78.0|       79.0|   N|                Y|0.9873417721518988|\n",
            "|R15R7STOZZP2A4|          5|         33.0|       34.0|   N|                Y|0.9705882352941176|\n",
            "|R33V5WV529NK8E|          4|         30.0|       32.0|   N|                Y|            0.9375|\n",
            "| RIR9ZI3L80P7P|          3|         72.0|       76.0|   N|                N|0.9473684210526315|\n",
            "|R10P6SDC1D6C3I|          5|         23.0|       25.0|   N|                Y|              0.92|\n",
            "|R110G9UVLI2MLS|          5|         52.0|       55.0|   N|                Y|0.9454545454545454|\n",
            "|R1I4LN1WR3YVJX|          1|         31.0|       40.0|   N|                Y|             0.775|\n",
            "|R1B76MPCS05UX9|          5|         19.0|       21.0|   N|                Y|0.9047619047619048|\n",
            "|R17PJIKAZ3U6BG|          5|         21.0|       21.0|   N|                Y|               1.0|\n",
            "|R2T3TLCX42RWLY|          5|         46.0|       48.0|   N|                Y|0.9583333333333334|\n",
            "+--------------+-----------+-------------+-----------+----+-----------------+------------------+\n",
            "only showing top 20 rows\n",
            "\n"
          ]
        }
      ]
    },
    {
      "cell_type": "code",
      "source": [
        "# Total number of vine paid reviews\n",
        "vine_paid_reviews = vine_paid_df.count()\n",
        "print(vine_paid_reviews)"
      ],
      "metadata": {
        "colab": {
          "base_uri": "https://localhost:8080/"
        },
        "id": "P8WBICkvUi5l",
        "outputId": "1d2b909f-351f-409d-ecbe-fb755a564e0c"
      },
      "execution_count": 77,
      "outputs": [
        {
          "output_type": "stream",
          "name": "stdout",
          "text": [
            "136\n"
          ]
        }
      ]
    },
    {
      "cell_type": "code",
      "source": [
        "# Total number of vine non paid reviews\n",
        "vine_non_paid_reviews = vine_non_paid_df.count()\n",
        "print(vine_non_paid_reviews)"
      ],
      "metadata": {
        "colab": {
          "base_uri": "https://localhost:8080/"
        },
        "id": "OC1qGIQvZW9g",
        "outputId": "690f93ae-1d66-4b69-914c-7163aee734e3"
      },
      "execution_count": 79,
      "outputs": [
        {
          "output_type": "stream",
          "name": "stdout",
          "text": [
            "18603\n"
          ]
        }
      ]
    },
    {
      "cell_type": "code",
      "source": [
        "# Total number of 5-star reviews for Paid Vine users\n",
        "total_paid_5_star_reviews = vine_paid_df.filter('star_rating = 5')\n",
        "total_paid_5_star_reviews.count()"
      ],
      "metadata": {
        "colab": {
          "base_uri": "https://localhost:8080/"
        },
        "id": "kpq-7kV3UjQg",
        "outputId": "09bf4ec5-eef2-45ea-f721-9638b554287c"
      },
      "execution_count": 80,
      "outputs": [
        {
          "output_type": "execute_result",
          "data": {
            "text/plain": [
              "74"
            ]
          },
          "metadata": {},
          "execution_count": 80
        }
      ]
    },
    {
      "cell_type": "code",
      "source": [
        "# Total number of 5-star reviews for Non Paid Vine users\n",
        "total_non_paid_5_star_reviews = vine_non_paid_df.filter('star_rating = 5')\n",
        "total_non_paid_5_star_reviews.count()"
      ],
      "metadata": {
        "colab": {
          "base_uri": "https://localhost:8080/"
        },
        "outputId": "bf73ed90-5942-46b0-add8-43d64a02585c",
        "id": "XMYzMlHNWywC"
      },
      "execution_count": 73,
      "outputs": [
        {
          "output_type": "execute_result",
          "data": {
            "text/plain": [
              "8542"
            ]
          },
          "metadata": {},
          "execution_count": 73
        }
      ]
    },
    {
      "cell_type": "code",
      "source": [
        "from pyspark.sql.functions import col, avg\n",
        "# Percentage of 5-star Reviews for both paid\n",
        "percent_five_star_paid_reviews = (total_paid_5_star_reviews.count() / vine_paid_reviews) * 100\n",
        "percent_five_star_paid_reviews\n"
      ],
      "metadata": {
        "colab": {
          "base_uri": "https://localhost:8080/"
        },
        "id": "KYcxrz-aXEq4",
        "outputId": "cc7bb175-1aa8-4f2a-a547-92f91d30267c"
      },
      "execution_count": 96,
      "outputs": [
        {
          "output_type": "execute_result",
          "data": {
            "text/plain": [
              "54.41176470588235"
            ]
          },
          "metadata": {},
          "execution_count": 96
        }
      ]
    },
    {
      "cell_type": "code",
      "source": [
        "# Percentage of 5-star Revies for unpaid \n",
        "percent_five_star_unpaid_reviews = (total_non_paid_5_star_reviews.count() / vine_non_paid_reviews) *100\n",
        "percent_five_star_unpaid_reviews"
      ],
      "metadata": {
        "colab": {
          "base_uri": "https://localhost:8080/"
        },
        "id": "MKy3oMlWXE-k",
        "outputId": "d4b8a5c1-cb33-4ac2-f40f-036336d4101a"
      },
      "execution_count": 98,
      "outputs": [
        {
          "output_type": "execute_result",
          "data": {
            "text/plain": [
              "45.91732516260818"
            ]
          },
          "metadata": {},
          "execution_count": 98
        }
      ]
    }
  ]
}