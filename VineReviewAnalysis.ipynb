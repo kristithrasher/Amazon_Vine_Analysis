{
  "nbformat": 4,
  "nbformat_minor": 0,
  "metadata": {
    "colab": {
      "name": "VineReviewAnalysis.ipynb",
      "provenance": [],
      "collapsed_sections": [],
      "authorship_tag": "ABX9TyN7wLZ8lHrXAUZFUbBYCa20",
      "include_colab_link": true
    },
    "kernelspec": {
      "name": "python3",
      "display_name": "Python 3"
    },
    "language_info": {
      "name": "python"
    }
  },
  "cells": [
    {
      "cell_type": "markdown",
      "metadata": {
        "id": "view-in-github",
        "colab_type": "text"
      },
      "source": [
        "<a href=\"https://colab.research.google.com/github/kristithrasher/Amazon_Vine_Analysis/blob/main/VineReviewAnalysis.ipynb\" target=\"_parent\"><img src=\"https://colab.research.google.com/assets/colab-badge.svg\" alt=\"Open In Colab\"/></a>"
      ]
    },
    {
      "cell_type": "code",
      "execution_count": 178,
      "metadata": {
        "colab": {
          "base_uri": "https://localhost:8080/"
        },
        "id": "tnm8JKPnNZgI",
        "outputId": "a15afec2-609f-49e6-e680-b9f238099064"
      },
      "outputs": [
        {
          "output_type": "stream",
          "name": "stdout",
          "text": [
            "\r0% [Working]\r            \rHit:1 http://security.ubuntu.com/ubuntu bionic-security InRelease\n",
            "\r0% [Connecting to archive.ubuntu.com (91.189.88.152)] [Connected to cloud.r-pro\r0% [1 InRelease gpgv 88.7 kB] [Connecting to archive.ubuntu.com (91.189.88.152)\r                                                                               \rHit:2 https://cloud.r-project.org/bin/linux/ubuntu bionic-cran40/ InRelease\n",
            "\r0% [1 InRelease gpgv 88.7 kB] [Waiting for headers] [Waiting for headers] [Wait\r                                                                               \rIgn:3 https://developer.download.nvidia.com/compute/cuda/repos/ubuntu1804/x86_64  InRelease\n",
            "\r0% [1 InRelease gpgv 88.7 kB] [Waiting for headers] [Waiting for headers] [Wait\r                                                                               \rHit:4 http://ppa.launchpad.net/c2d4u.team/c2d4u4.0+/ubuntu bionic InRelease\n",
            "\r0% [1 InRelease gpgv 88.7 kB] [Waiting for headers] [Connecting to ppa.launchpa\r                                                                               \rHit:5 http://archive.ubuntu.com/ubuntu bionic InRelease\n",
            "Ign:6 https://developer.download.nvidia.com/compute/machine-learning/repos/ubuntu1804/x86_64  InRelease\n",
            "Hit:7 https://developer.download.nvidia.com/compute/cuda/repos/ubuntu1804/x86_64  Release\n",
            "Hit:8 https://developer.download.nvidia.com/compute/machine-learning/repos/ubuntu1804/x86_64  Release\n",
            "Hit:9 http://archive.ubuntu.com/ubuntu bionic-updates InRelease\n",
            "Hit:10 http://ppa.launchpad.net/cran/libgit2/ubuntu bionic InRelease\n",
            "Hit:11 http://archive.ubuntu.com/ubuntu bionic-backports InRelease\n",
            "Hit:12 http://ppa.launchpad.net/deadsnakes/ppa/ubuntu bionic InRelease\n",
            "Hit:13 http://ppa.launchpad.net/graphics-drivers/ppa/ubuntu bionic InRelease\n",
            "Reading package lists... Done\n"
          ]
        }
      ],
      "source": [
        "import os\n",
        "# Find the latest version of spark 3.0 from http://www.apache.org/dist/spark/ and enter as the spark version\n",
        "# For example:\n",
        "# spark_version = 'spark-3.0.3'\n",
        "spark_version = 'spark-3.0.3'\n",
        "os.environ['SPARK_VERSION']=spark_version\n",
        "\n",
        "# Install Spark and Java\n",
        "!apt-get update\n",
        "!apt-get install openjdk-11-jdk-headless -qq > /dev/null\n",
        "!wget -q http://www.apache.org/dist/spark/$SPARK_VERSION/$SPARK_VERSION-bin-hadoop2.7.tgz\n",
        "!tar xf $SPARK_VERSION-bin-hadoop2.7.tgz\n",
        "!pip install -q findspark\n",
        "\n",
        "# Set Environment Variables\n",
        "import os\n",
        "os.environ[\"JAVA_HOME\"] = \"/usr/lib/jvm/java-11-openjdk-amd64\"\n",
        "os.environ[\"SPARK_HOME\"] = f\"/content/{spark_version}-bin-hadoop2.7\"\n",
        "\n",
        "# Start a SparkSession\n",
        "import findspark\n",
        "findspark.init()"
      ]
    },
    {
      "cell_type": "code",
      "source": [
        "!wget https://jdbc.postgresql.org/download/postgresql-42.2.16.jar\n",
        "\n"
      ],
      "metadata": {
        "colab": {
          "base_uri": "https://localhost:8080/"
        },
        "id": "QbYmQltkNaPK",
        "outputId": "4d3e7df1-6450-412f-c6e0-36952f2d8892"
      },
      "execution_count": 179,
      "outputs": [
        {
          "output_type": "stream",
          "name": "stdout",
          "text": [
            "--2022-03-08 00:49:23--  https://jdbc.postgresql.org/download/postgresql-42.2.16.jar\n",
            "Resolving jdbc.postgresql.org (jdbc.postgresql.org)... 72.32.157.228, 2001:4800:3e1:1::228\n",
            "Connecting to jdbc.postgresql.org (jdbc.postgresql.org)|72.32.157.228|:443... connected.\n",
            "HTTP request sent, awaiting response... 200 OK\n",
            "Length: 1002883 (979K) [application/java-archive]\n",
            "Saving to: ‘postgresql-42.2.16.jar.2’\n",
            "\n",
            "postgresql-42.2.16. 100%[===================>] 979.38K  5.22MB/s    in 0.2s    \n",
            "\n",
            "2022-03-08 00:49:24 (5.22 MB/s) - ‘postgresql-42.2.16.jar.2’ saved [1002883/1002883]\n",
            "\n"
          ]
        }
      ]
    },
    {
      "cell_type": "code",
      "source": [
        "from pyspark.sql import SparkSession\n",
        "spark = SparkSession.builder.appName(\"CloudETL\").config(\"spark.driver.extraClassPath\",\"/content/postgresql-42.2.16.jar\").getOrCreate()"
      ],
      "metadata": {
        "id": "BiFKS2LWNahd"
      },
      "execution_count": 180,
      "outputs": []
    },
    {
      "cell_type": "code",
      "source": [
        "# Read in vine data from S3 Buckets\n",
        "from pyspark import SparkFiles\n",
        "url =\"https://kristithrasher-bucket.s3.amazonaws.com/vine_table.csv\"\n",
        "spark.sparkContext.addFile(url)\n",
        "vine_df = spark.read.csv(SparkFiles.get(\"vine_table.csv\"), sep=\",\", header=True, inferSchema=True)\n"
      ],
      "metadata": {
        "id": "zMShiOSZNalM"
      },
      "execution_count": 181,
      "outputs": []
    },
    {
      "cell_type": "code",
      "source": [
        "# show the dataframe\n",
        "vine_df.show()"
      ],
      "metadata": {
        "colab": {
          "base_uri": "https://localhost:8080/"
        },
        "id": "OhINv0RLRBO0",
        "outputId": "b08b7bb5-3b31-4350-c3ee-df6f4ea40924"
      },
      "execution_count": 182,
      "outputs": [
        {
          "output_type": "stream",
          "name": "stdout",
          "text": [
            "+--------------+-----------+-------------+-----------+----+-----------------+\n",
            "|     review_id|star_rating|helpful_votes|total_votes|vine|verified_purchase|\n",
            "+--------------+-----------+-------------+-----------+----+-----------------+\n",
            "| RDIJS7QYB6XNR|          5|            0|          0|   N|                Y|\n",
            "|R36ED1U38IELG8|          5|            0|          0|   N|                Y|\n",
            "| R1UE3RPRGCOLD|          2|            1|          1|   N|                Y|\n",
            "|R298788GS6I901|          5|            0|          0|   N|                Y|\n",
            "|  RNX4EXOBBPN5|          1|            1|          1|   N|                Y|\n",
            "|R3BPETL222LMIM|          5|            0|          0|   N|                Y|\n",
            "|R3SORMPJZO3F2J|          3|            2|          2|   N|                Y|\n",
            "|R2RDOJQ0WBZCF6|          5|            0|          0|   N|                Y|\n",
            "|R2B8VBEPB4YEZ7|          5|            0|          0|   N|                Y|\n",
            "|R1CB783I7B0U52|          1|            0|          1|   N|                Y|\n",
            "| R2D90RQQ3V8LH|          5|            0|          0|   N|                Y|\n",
            "|R1Y4ZOUGFMJ327|          5|            0|          0|   N|                Y|\n",
            "|R2BUV9QJI2A00X|          5|            0|          1|   N|                Y|\n",
            "| RSUHRJFJIRB3Z|          4|            0|          0|   N|                Y|\n",
            "|R1T96CG98BBA15|          3|            2|          4|   N|                Y|\n",
            "| R2ATXF4QQ30YW|          5|            0|          0|   N|                Y|\n",
            "|R1YS3DS218NNMD|          5|            4|          4|   N|                N|\n",
            "|R2SDXLTLF92O0H|          5|            0|          0|   N|                Y|\n",
            "| R4R337CCDWLNG|          3|            0|          1|   Y|                N|\n",
            "|R32Z6UA4S5Q630|          1|            0|          0|   N|                Y|\n",
            "+--------------+-----------+-------------+-----------+----+-----------------+\n",
            "only showing top 20 rows\n",
            "\n"
          ]
        }
      ]
    },
    {
      "cell_type": "code",
      "source": [
        "### DELIVERALBE 2"
      ],
      "metadata": {
        "id": "qhJ_aNewR5Zk"
      },
      "execution_count": null,
      "outputs": []
    },
    {
      "cell_type": "code",
      "source": [
        "# Filter the vine_df dataframe to show total_votes greater than or equal to 20\n",
        "vine_df.filter(\"total_votes>=20\").show()\n",
        "filtered_vine_df = vine_df.filter(\"total_votes>=20\")\n",
        "filtered_vine_df.show()"
      ],
      "metadata": {
        "colab": {
          "base_uri": "https://localhost:8080/"
        },
        "id": "lsu0K5z6NaoH",
        "outputId": "07a424bd-e710-4be8-a783-bf0500a7ffd3"
      },
      "execution_count": 183,
      "outputs": [
        {
          "output_type": "stream",
          "name": "stdout",
          "text": [
            "+--------------+-----------+-------------+-----------+----+-----------------+\n",
            "|     review_id|star_rating|helpful_votes|total_votes|vine|verified_purchase|\n",
            "+--------------+-----------+-------------+-----------+----+-----------------+\n",
            "| RL8D0KJ0J9L0O|          5|          152|        165|   N|                Y|\n",
            "|R1BEINAIQFBRJC|          5|           21|         23|   N|                Y|\n",
            "|R2L59KIJH302P9|          4|           26|         26|   N|                Y|\n",
            "| RR99CPG695T0I|          5|          215|        248|   N|                N|\n",
            "|R1XQNKKUPCMWVO|          5|           43|         44|   N|                Y|\n",
            "|R3JUXVCT1NSK2A|          3|           25|         26|   N|                Y|\n",
            "|R3GNSIFV1J2Y2B|          1|           15|         60|   N|                N|\n",
            "| RTCRZARYY4LXX|          5|           52|         54|   N|                Y|\n",
            "|R3OFB4P7Y8WR27|          1|           15|         26|   N|                Y|\n",
            "|R3MTAYGQM25N63|          4|           58|         59|   N|                Y|\n",
            "| RJNDSWES5ISZ7|          5|           78|         79|   N|                Y|\n",
            "|R15R7STOZZP2A4|          5|           33|         34|   N|                Y|\n",
            "|R33V5WV529NK8E|          4|           30|         32|   N|                Y|\n",
            "| RIR9ZI3L80P7P|          3|           72|         76|   N|                N|\n",
            "|R10P6SDC1D6C3I|          5|           23|         25|   N|                Y|\n",
            "|R110G9UVLI2MLS|          5|           52|         55|   N|                Y|\n",
            "|R1I4LN1WR3YVJX|          1|           31|         40|   N|                Y|\n",
            "|R1B76MPCS05UX9|          5|           19|         21|   N|                Y|\n",
            "|R17PJIKAZ3U6BG|          5|           21|         21|   N|                Y|\n",
            "|R2T3TLCX42RWLY|          5|           46|         48|   N|                Y|\n",
            "+--------------+-----------+-------------+-----------+----+-----------------+\n",
            "only showing top 20 rows\n",
            "\n",
            "+--------------+-----------+-------------+-----------+----+-----------------+\n",
            "|     review_id|star_rating|helpful_votes|total_votes|vine|verified_purchase|\n",
            "+--------------+-----------+-------------+-----------+----+-----------------+\n",
            "| RL8D0KJ0J9L0O|          5|          152|        165|   N|                Y|\n",
            "|R1BEINAIQFBRJC|          5|           21|         23|   N|                Y|\n",
            "|R2L59KIJH302P9|          4|           26|         26|   N|                Y|\n",
            "| RR99CPG695T0I|          5|          215|        248|   N|                N|\n",
            "|R1XQNKKUPCMWVO|          5|           43|         44|   N|                Y|\n",
            "|R3JUXVCT1NSK2A|          3|           25|         26|   N|                Y|\n",
            "|R3GNSIFV1J2Y2B|          1|           15|         60|   N|                N|\n",
            "| RTCRZARYY4LXX|          5|           52|         54|   N|                Y|\n",
            "|R3OFB4P7Y8WR27|          1|           15|         26|   N|                Y|\n",
            "|R3MTAYGQM25N63|          4|           58|         59|   N|                Y|\n",
            "| RJNDSWES5ISZ7|          5|           78|         79|   N|                Y|\n",
            "|R15R7STOZZP2A4|          5|           33|         34|   N|                Y|\n",
            "|R33V5WV529NK8E|          4|           30|         32|   N|                Y|\n",
            "| RIR9ZI3L80P7P|          3|           72|         76|   N|                N|\n",
            "|R10P6SDC1D6C3I|          5|           23|         25|   N|                Y|\n",
            "|R110G9UVLI2MLS|          5|           52|         55|   N|                Y|\n",
            "|R1I4LN1WR3YVJX|          1|           31|         40|   N|                Y|\n",
            "|R1B76MPCS05UX9|          5|           19|         21|   N|                Y|\n",
            "|R17PJIKAZ3U6BG|          5|           21|         21|   N|                Y|\n",
            "|R2T3TLCX42RWLY|          5|           46|         48|   N|                Y|\n",
            "+--------------+-----------+-------------+-----------+----+-----------------+\n",
            "only showing top 20 rows\n",
            "\n"
          ]
        }
      ]
    },
    {
      "cell_type": "code",
      "source": [
        "# get info on dataframe\n",
        "filtered_vine_df.describe()\n"
      ],
      "metadata": {
        "colab": {
          "base_uri": "https://localhost:8080/"
        },
        "id": "WVSQACoMWstk",
        "outputId": "06480f3b-4f33-46a2-f5e9-4fc08665aab8"
      },
      "execution_count": 184,
      "outputs": [
        {
          "output_type": "execute_result",
          "data": {
            "text/plain": [
              "DataFrame[summary: string, review_id: string, star_rating: string, helpful_votes: string, total_votes: string, vine: string, verified_purchase: string]"
            ]
          },
          "metadata": {},
          "execution_count": 184
        }
      ]
    },
    {
      "cell_type": "code",
      "source": [
        "filtered_vine_df.printSchema()"
      ],
      "metadata": {
        "colab": {
          "base_uri": "https://localhost:8080/"
        },
        "id": "5-wC--_QNarS",
        "outputId": "4ed3d528-1f0b-4ccc-e320-98eec3e1d48d"
      },
      "execution_count": 185,
      "outputs": [
        {
          "output_type": "stream",
          "name": "stdout",
          "text": [
            "root\n",
            " |-- review_id: string (nullable = true)\n",
            " |-- star_rating: integer (nullable = true)\n",
            " |-- helpful_votes: integer (nullable = true)\n",
            " |-- total_votes: integer (nullable = true)\n",
            " |-- vine: string (nullable = true)\n",
            " |-- verified_purchase: string (nullable = true)\n",
            "\n"
          ]
        }
      ]
    },
    {
      "cell_type": "code",
      "source": [
        "#importing datatypes from pyspark so i can change them\n",
        "from pyspark.sql.types import DoubleType\n"
      ],
      "metadata": {
        "id": "4y6nd3pOf6hv"
      },
      "execution_count": 186,
      "outputs": []
    },
    {
      "cell_type": "code",
      "source": [
        "# Recast the datatype of the helpful_votes and total_votes from integer to double\n",
        "new_df = filtered_vine_df.withColumn(\"helpful_votes\",filtered_vine_df.helpful_votes.cast(DoubleType()))\n",
        "filtered_vine2_df = new_df.withColumn(\"total_votes\",filtered_vine_df.total_votes.cast(DoubleType()))"
      ],
      "metadata": {
        "id": "awWqf9H7f6lG"
      },
      "execution_count": 187,
      "outputs": []
    },
    {
      "cell_type": "code",
      "source": [
        "filtered_vine2_df.printSchema()"
      ],
      "metadata": {
        "colab": {
          "base_uri": "https://localhost:8080/"
        },
        "id": "Yox8PAFwf6q5",
        "outputId": "ccb5c93f-7308-44b8-a179-62acdb61188a"
      },
      "execution_count": 188,
      "outputs": [
        {
          "output_type": "stream",
          "name": "stdout",
          "text": [
            "root\n",
            " |-- review_id: string (nullable = true)\n",
            " |-- star_rating: integer (nullable = true)\n",
            " |-- helpful_votes: double (nullable = true)\n",
            " |-- total_votes: double (nullable = true)\n",
            " |-- vine: string (nullable = true)\n",
            " |-- verified_purchase: string (nullable = true)\n",
            "\n"
          ]
        }
      ]
    },
    {
      "cell_type": "code",
      "source": [
        "from pyspark.sql.functions import col\n",
        "new_df = filtered_vine2_df.withColumn(\"calculation\", col(\"helpful_votes\") / col(\"total_votes\"))\n",
        "new_df.show()\n"
      ],
      "metadata": {
        "colab": {
          "base_uri": "https://localhost:8080/"
        },
        "id": "lUTNY5gYiNh3",
        "outputId": "cd9d26c2-d4e2-43be-e4e3-7ad038a62661"
      },
      "execution_count": 189,
      "outputs": [
        {
          "output_type": "stream",
          "name": "stdout",
          "text": [
            "+--------------+-----------+-------------+-----------+----+-----------------+------------------+\n",
            "|     review_id|star_rating|helpful_votes|total_votes|vine|verified_purchase|       calculation|\n",
            "+--------------+-----------+-------------+-----------+----+-----------------+------------------+\n",
            "| RL8D0KJ0J9L0O|          5|        152.0|      165.0|   N|                Y|0.9212121212121213|\n",
            "|R1BEINAIQFBRJC|          5|         21.0|       23.0|   N|                Y|0.9130434782608695|\n",
            "|R2L59KIJH302P9|          4|         26.0|       26.0|   N|                Y|               1.0|\n",
            "| RR99CPG695T0I|          5|        215.0|      248.0|   N|                N|0.8669354838709677|\n",
            "|R1XQNKKUPCMWVO|          5|         43.0|       44.0|   N|                Y|0.9772727272727273|\n",
            "|R3JUXVCT1NSK2A|          3|         25.0|       26.0|   N|                Y|0.9615384615384616|\n",
            "|R3GNSIFV1J2Y2B|          1|         15.0|       60.0|   N|                N|              0.25|\n",
            "| RTCRZARYY4LXX|          5|         52.0|       54.0|   N|                Y|0.9629629629629629|\n",
            "|R3OFB4P7Y8WR27|          1|         15.0|       26.0|   N|                Y|0.5769230769230769|\n",
            "|R3MTAYGQM25N63|          4|         58.0|       59.0|   N|                Y|0.9830508474576272|\n",
            "| RJNDSWES5ISZ7|          5|         78.0|       79.0|   N|                Y|0.9873417721518988|\n",
            "|R15R7STOZZP2A4|          5|         33.0|       34.0|   N|                Y|0.9705882352941176|\n",
            "|R33V5WV529NK8E|          4|         30.0|       32.0|   N|                Y|            0.9375|\n",
            "| RIR9ZI3L80P7P|          3|         72.0|       76.0|   N|                N|0.9473684210526315|\n",
            "|R10P6SDC1D6C3I|          5|         23.0|       25.0|   N|                Y|              0.92|\n",
            "|R110G9UVLI2MLS|          5|         52.0|       55.0|   N|                Y|0.9454545454545454|\n",
            "|R1I4LN1WR3YVJX|          1|         31.0|       40.0|   N|                Y|             0.775|\n",
            "|R1B76MPCS05UX9|          5|         19.0|       21.0|   N|                Y|0.9047619047619048|\n",
            "|R17PJIKAZ3U6BG|          5|         21.0|       21.0|   N|                Y|               1.0|\n",
            "|R2T3TLCX42RWLY|          5|         46.0|       48.0|   N|                Y|0.9583333333333334|\n",
            "+--------------+-----------+-------------+-----------+----+-----------------+------------------+\n",
            "only showing top 20 rows\n",
            "\n"
          ]
        }
      ]
    },
    {
      "cell_type": "code",
      "source": [
        "calculation_greater_than_50_df = new_df.filter(new_df.calculation >= 0.5)\n",
        "calculation_greater_than_50_df.show()\n"
      ],
      "metadata": {
        "colab": {
          "base_uri": "https://localhost:8080/"
        },
        "id": "vTKx-AoRld8L",
        "outputId": "f4fa2fbd-48fa-4b0c-8f67-37653d02cf57"
      },
      "execution_count": 190,
      "outputs": [
        {
          "output_type": "stream",
          "name": "stdout",
          "text": [
            "+--------------+-----------+-------------+-----------+----+-----------------+------------------+\n",
            "|     review_id|star_rating|helpful_votes|total_votes|vine|verified_purchase|       calculation|\n",
            "+--------------+-----------+-------------+-----------+----+-----------------+------------------+\n",
            "| RL8D0KJ0J9L0O|          5|        152.0|      165.0|   N|                Y|0.9212121212121213|\n",
            "|R1BEINAIQFBRJC|          5|         21.0|       23.0|   N|                Y|0.9130434782608695|\n",
            "|R2L59KIJH302P9|          4|         26.0|       26.0|   N|                Y|               1.0|\n",
            "| RR99CPG695T0I|          5|        215.0|      248.0|   N|                N|0.8669354838709677|\n",
            "|R1XQNKKUPCMWVO|          5|         43.0|       44.0|   N|                Y|0.9772727272727273|\n",
            "|R3JUXVCT1NSK2A|          3|         25.0|       26.0|   N|                Y|0.9615384615384616|\n",
            "| RTCRZARYY4LXX|          5|         52.0|       54.0|   N|                Y|0.9629629629629629|\n",
            "|R3OFB4P7Y8WR27|          1|         15.0|       26.0|   N|                Y|0.5769230769230769|\n",
            "|R3MTAYGQM25N63|          4|         58.0|       59.0|   N|                Y|0.9830508474576272|\n",
            "| RJNDSWES5ISZ7|          5|         78.0|       79.0|   N|                Y|0.9873417721518988|\n",
            "|R15R7STOZZP2A4|          5|         33.0|       34.0|   N|                Y|0.9705882352941176|\n",
            "|R33V5WV529NK8E|          4|         30.0|       32.0|   N|                Y|            0.9375|\n",
            "| RIR9ZI3L80P7P|          3|         72.0|       76.0|   N|                N|0.9473684210526315|\n",
            "|R10P6SDC1D6C3I|          5|         23.0|       25.0|   N|                Y|              0.92|\n",
            "|R110G9UVLI2MLS|          5|         52.0|       55.0|   N|                Y|0.9454545454545454|\n",
            "|R1I4LN1WR3YVJX|          1|         31.0|       40.0|   N|                Y|             0.775|\n",
            "|R1B76MPCS05UX9|          5|         19.0|       21.0|   N|                Y|0.9047619047619048|\n",
            "|R17PJIKAZ3U6BG|          5|         21.0|       21.0|   N|                Y|               1.0|\n",
            "|R2T3TLCX42RWLY|          5|         46.0|       48.0|   N|                Y|0.9583333333333334|\n",
            "|R39YWJ09ZCPW7P|          5|         24.0|       28.0|   N|                Y|0.8571428571428571|\n",
            "+--------------+-----------+-------------+-----------+----+-----------------+------------------+\n",
            "only showing top 20 rows\n",
            "\n"
          ]
        }
      ]
    },
    {
      "cell_type": "code",
      "source": [
        "vine_paid_df = calculation_greater_than_50_df.filter(\"vine == 'Y'\").show()"
      ],
      "metadata": {
        "colab": {
          "base_uri": "https://localhost:8080/"
        },
        "id": "2tZmf-mIiNl5",
        "outputId": "e8affc3c-ed76-4362-d3f4-2f66f2d69166"
      },
      "execution_count": 191,
      "outputs": [
        {
          "output_type": "stream",
          "name": "stdout",
          "text": [
            "+--------------+-----------+-------------+-----------+----+-----------------+------------------+\n",
            "|     review_id|star_rating|helpful_votes|total_votes|vine|verified_purchase|       calculation|\n",
            "+--------------+-----------+-------------+-----------+----+-----------------+------------------+\n",
            "|R2BQOD1R0228FN|          3|         17.0|       26.0|   Y|                N|0.6538461538461539|\n",
            "| RC31RUPFOHBHQ|          4|        102.0|      117.0|   Y|                N|0.8717948717948718|\n",
            "| REN3N1WITLF1Y|          5|         33.0|       37.0|   Y|                N|0.8918918918918919|\n",
            "| R71RZQ9UZVG47|          4|         38.0|       47.0|   Y|                N|0.8085106382978723|\n",
            "|R38NMQBH88HLM6|          4|         18.0|       24.0|   Y|                N|              0.75|\n",
            "|R33FGX9EE3QVR6|          4|         26.0|       26.0|   Y|                N|               1.0|\n",
            "|R1KIOIK6WEYE59|          3|         19.0|       20.0|   Y|                N|              0.95|\n",
            "|R25X9BMOB3FD0E|          4|         32.0|       37.0|   Y|                N|0.8648648648648649|\n",
            "|R3VCKFCX2377Q2|          4|         95.0|      101.0|   Y|                N|0.9405940594059405|\n",
            "|R1E0OUG63HMSM4|          3|         58.0|       61.0|   Y|                N|0.9508196721311475|\n",
            "|R1V45RUW5ZB3LS|          4|         19.0|       21.0|   Y|                N|0.9047619047619048|\n",
            "| RTF6DSZ1UTLHH|          5|        401.0|      418.0|   Y|                N|0.9593301435406698|\n",
            "|R1CZV9N2YLJAP7|          5|        123.0|      136.0|   Y|                Y|0.9044117647058824|\n",
            "|R1OF3X9W99Y300|          4|         27.0|       35.0|   Y|                N|0.7714285714285715|\n",
            "|R1JYKEH4CQVJ1B|          5|         22.0|       23.0|   Y|                N|0.9565217391304348|\n",
            "|R1093XVB0H2QOL|          4|         51.0|       54.0|   Y|                N|0.9444444444444444|\n",
            "|R3Q81B31F1CPGH|          3|         50.0|       55.0|   Y|                N|0.9090909090909091|\n",
            "|R2P6XIZZPJF7AE|          5|         46.0|       51.0|   Y|                N|0.9019607843137255|\n",
            "|R3N5S06UW5MKFE|          3|        907.0|      925.0|   Y|                N|0.9805405405405405|\n",
            "|R3J9EJCVKFCRWO|          5|         18.0|       20.0|   Y|                N|               0.9|\n",
            "+--------------+-----------+-------------+-----------+----+-----------------+------------------+\n",
            "only showing top 20 rows\n",
            "\n"
          ]
        }
      ]
    },
    {
      "cell_type": "code",
      "source": [
        "vine_notPaid_df = calculation_greater_than_50_df.filter(\"vine =='N'\").show()"
      ],
      "metadata": {
        "colab": {
          "base_uri": "https://localhost:8080/"
        },
        "id": "hsEN_hmKiNpc",
        "outputId": "4ddc0be0-66ae-4878-b143-2e3b6ac97a79"
      },
      "execution_count": 192,
      "outputs": [
        {
          "output_type": "stream",
          "name": "stdout",
          "text": [
            "+--------------+-----------+-------------+-----------+----+-----------------+------------------+\n",
            "|     review_id|star_rating|helpful_votes|total_votes|vine|verified_purchase|       calculation|\n",
            "+--------------+-----------+-------------+-----------+----+-----------------+------------------+\n",
            "| RL8D0KJ0J9L0O|          5|        152.0|      165.0|   N|                Y|0.9212121212121213|\n",
            "|R1BEINAIQFBRJC|          5|         21.0|       23.0|   N|                Y|0.9130434782608695|\n",
            "|R2L59KIJH302P9|          4|         26.0|       26.0|   N|                Y|               1.0|\n",
            "| RR99CPG695T0I|          5|        215.0|      248.0|   N|                N|0.8669354838709677|\n",
            "|R1XQNKKUPCMWVO|          5|         43.0|       44.0|   N|                Y|0.9772727272727273|\n",
            "|R3JUXVCT1NSK2A|          3|         25.0|       26.0|   N|                Y|0.9615384615384616|\n",
            "| RTCRZARYY4LXX|          5|         52.0|       54.0|   N|                Y|0.9629629629629629|\n",
            "|R3OFB4P7Y8WR27|          1|         15.0|       26.0|   N|                Y|0.5769230769230769|\n",
            "|R3MTAYGQM25N63|          4|         58.0|       59.0|   N|                Y|0.9830508474576272|\n",
            "| RJNDSWES5ISZ7|          5|         78.0|       79.0|   N|                Y|0.9873417721518988|\n",
            "|R15R7STOZZP2A4|          5|         33.0|       34.0|   N|                Y|0.9705882352941176|\n",
            "|R33V5WV529NK8E|          4|         30.0|       32.0|   N|                Y|            0.9375|\n",
            "| RIR9ZI3L80P7P|          3|         72.0|       76.0|   N|                N|0.9473684210526315|\n",
            "|R10P6SDC1D6C3I|          5|         23.0|       25.0|   N|                Y|              0.92|\n",
            "|R110G9UVLI2MLS|          5|         52.0|       55.0|   N|                Y|0.9454545454545454|\n",
            "|R1I4LN1WR3YVJX|          1|         31.0|       40.0|   N|                Y|             0.775|\n",
            "|R1B76MPCS05UX9|          5|         19.0|       21.0|   N|                Y|0.9047619047619048|\n",
            "|R17PJIKAZ3U6BG|          5|         21.0|       21.0|   N|                Y|               1.0|\n",
            "|R2T3TLCX42RWLY|          5|         46.0|       48.0|   N|                Y|0.9583333333333334|\n",
            "|R39YWJ09ZCPW7P|          5|         24.0|       28.0|   N|                Y|0.8571428571428571|\n",
            "+--------------+-----------+-------------+-----------+----+-----------------+------------------+\n",
            "only showing top 20 rows\n",
            "\n"
          ]
        }
      ]
    },
    {
      "cell_type": "code",
      "source": [
        "from pyspark.sql.functions import count\n",
        "\n",
        "\n",
        "\n"
      ],
      "metadata": {
        "id": "0SGyKJ3EiNsW"
      },
      "execution_count": 201,
      "outputs": []
    },
    {
      "cell_type": "code",
      "execution_count": 193,
      "metadata": {
        "id": "Exuo6ebUsCqW"
      },
      "outputs": [],
      "source": [
        "\n"
      ]
    },
    {
      "cell_type": "code",
      "source": [
        ""
      ],
      "metadata": {
        "id": "zSGy0UrptLA-"
      },
      "execution_count": null,
      "outputs": []
    },
    {
      "cell_type": "code",
      "source": [
        ""
      ],
      "metadata": {
        "id": "Kf3mbmV0tLMi"
      },
      "execution_count": null,
      "outputs": []
    },
    {
      "cell_type": "code",
      "source": [
        ""
      ],
      "metadata": {
        "id": "OeAkNpndtLPw"
      },
      "execution_count": null,
      "outputs": []
    },
    {
      "cell_type": "code",
      "source": [
        ""
      ],
      "metadata": {
        "id": "53V4hBqktLSv"
      },
      "execution_count": null,
      "outputs": []
    },
    {
      "cell_type": "code",
      "source": [
        ""
      ],
      "metadata": {
        "id": "qcaqhHKGtLVv"
      },
      "execution_count": null,
      "outputs": []
    }
  ]
}